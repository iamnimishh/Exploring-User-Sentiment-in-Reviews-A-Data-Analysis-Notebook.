{
 "cells": [
  {
   "cell_type": "markdown",
   "metadata": {},
   "source": [
    "# User Sentiment Analysis Notebook\n",
    "\n",
    "This notebook explores user sentiment in reviews using data analysis techniques. It utilizes various Python libraries for data manipulation, visualization, and sentiment analysis.\n",
    "\n",
    "## Importing Required Libraries\n",
    "\n",
    "To begin, we import the necessary libraries:\n",
    "\n"
   ]
  },
  {
   "cell_type": "code",
   "execution_count": 2,
   "metadata": {},
   "outputs": [],
   "source": [
    "import pandas as pd\n",
    "import numpy as np\n",
    "import matplotlib.pyplot as plt\n",
    "import seaborn as sns\n",
    "import nltk\n",
    "from nltk.sentiment import SentimentIntensityAnalyzer\n"
   ]
  },
  {
   "cell_type": "markdown",
   "metadata": {},
   "source": [
    "# Loading Data from CSV\n",
    "\n",
    "In this notebook, we will be working with a dataset stored in a CSV file. We will use the `pandas` library to load the data into a DataFrame."
   ]
  },
  {
   "cell_type": "code",
   "execution_count": 4,
   "metadata": {},
   "outputs": [],
   "source": [
    "data=pd.read_csv(r'Data/bumbledata.csv')"
   ]
  },
  {
   "cell_type": "code",
   "execution_count": 5,
   "metadata": {
    "scrolled": true
   },
   "outputs": [
    {
     "data": {
      "text/html": [
       "<div>\n",
       "<style scoped>\n",
       "    .dataframe tbody tr th:only-of-type {\n",
       "        vertical-align: middle;\n",
       "    }\n",
       "\n",
       "    .dataframe tbody tr th {\n",
       "        vertical-align: top;\n",
       "    }\n",
       "\n",
       "    .dataframe thead th {\n",
       "        text-align: right;\n",
       "    }\n",
       "</style>\n",
       "<table border=\"1\" class=\"dataframe\">\n",
       "  <thead>\n",
       "    <tr style=\"text-align: right;\">\n",
       "      <th></th>\n",
       "      <th>reviewId</th>\n",
       "      <th>userName</th>\n",
       "      <th>userImage</th>\n",
       "      <th>content</th>\n",
       "      <th>score</th>\n",
       "      <th>thumbsUpCount</th>\n",
       "      <th>reviewCreatedVersion</th>\n",
       "      <th>at</th>\n",
       "      <th>replyContent</th>\n",
       "      <th>repliedAt</th>\n",
       "    </tr>\n",
       "  </thead>\n",
       "  <tbody>\n",
       "    <tr>\n",
       "      <th>0</th>\n",
       "      <td>fdeb536c-5dea-4897-b389-5b7009bc1f6c</td>\n",
       "      <td>micheal germain</td>\n",
       "      <td>https://play-lh.googleusercontent.com/a/AGNmyx...</td>\n",
       "      <td>love this app. have used it before and It just...</td>\n",
       "      <td>5</td>\n",
       "      <td>0</td>\n",
       "      <td>5.311.1</td>\n",
       "      <td>2023-03-19 00:52:53</td>\n",
       "      <td>NaN</td>\n",
       "      <td>NaN</td>\n",
       "    </tr>\n",
       "    <tr>\n",
       "      <th>1</th>\n",
       "      <td>6e7ba334-cbbb-4fd4-a56f-f6113bfca588</td>\n",
       "      <td>H C</td>\n",
       "      <td>https://play-lh.googleusercontent.com/a/AGNmyx...</td>\n",
       "      <td>Account active status would be nice</td>\n",
       "      <td>3</td>\n",
       "      <td>0</td>\n",
       "      <td>5.311.1</td>\n",
       "      <td>2023-03-18 23:45:56</td>\n",
       "      <td>Hi there. We know you're probably busy, so we ...</td>\n",
       "      <td>2023-03-19 15:08:41</td>\n",
       "    </tr>\n",
       "    <tr>\n",
       "      <th>2</th>\n",
       "      <td>c9837822-0390-46ec-85ba-93fe0735f210</td>\n",
       "      <td>Nadir İlter</td>\n",
       "      <td>https://play-lh.googleusercontent.com/a/AGNmyx...</td>\n",
       "      <td>Works!</td>\n",
       "      <td>5</td>\n",
       "      <td>0</td>\n",
       "      <td>NaN</td>\n",
       "      <td>2023-03-18 23:13:44</td>\n",
       "      <td>NaN</td>\n",
       "      <td>NaN</td>\n",
       "    </tr>\n",
       "    <tr>\n",
       "      <th>3</th>\n",
       "      <td>dba8ddcc-5f03-416c-bdfd-a12994b99d4d</td>\n",
       "      <td>vahid mir</td>\n",
       "      <td>https://play-lh.googleusercontent.com/a/AGNmyx...</td>\n",
       "      <td>good</td>\n",
       "      <td>5</td>\n",
       "      <td>0</td>\n",
       "      <td>5.311.1</td>\n",
       "      <td>2023-03-18 23:04:17</td>\n",
       "      <td>NaN</td>\n",
       "      <td>NaN</td>\n",
       "    </tr>\n",
       "    <tr>\n",
       "      <th>4</th>\n",
       "      <td>161ae879-30e3-46e4-8d81-518d6c47b556</td>\n",
       "      <td>Merujan Danderian</td>\n",
       "      <td>https://play-lh.googleusercontent.com/a/AGNmyx...</td>\n",
       "      <td>Beware. You sign up for 1 week and it auto ren...</td>\n",
       "      <td>1</td>\n",
       "      <td>0</td>\n",
       "      <td>5.308.1</td>\n",
       "      <td>2023-03-18 23:04:04</td>\n",
       "      <td>Hi there. We're sorry you didn't enjoy your ex...</td>\n",
       "      <td>2023-03-19 15:08:40</td>\n",
       "    </tr>\n",
       "  </tbody>\n",
       "</table>\n",
       "</div>"
      ],
      "text/plain": [
       "                               reviewId           userName  \\\n",
       "0  fdeb536c-5dea-4897-b389-5b7009bc1f6c    micheal germain   \n",
       "1  6e7ba334-cbbb-4fd4-a56f-f6113bfca588                H C   \n",
       "2  c9837822-0390-46ec-85ba-93fe0735f210        Nadir İlter   \n",
       "3  dba8ddcc-5f03-416c-bdfd-a12994b99d4d          vahid mir   \n",
       "4  161ae879-30e3-46e4-8d81-518d6c47b556  Merujan Danderian   \n",
       "\n",
       "                                           userImage  \\\n",
       "0  https://play-lh.googleusercontent.com/a/AGNmyx...   \n",
       "1  https://play-lh.googleusercontent.com/a/AGNmyx...   \n",
       "2  https://play-lh.googleusercontent.com/a/AGNmyx...   \n",
       "3  https://play-lh.googleusercontent.com/a/AGNmyx...   \n",
       "4  https://play-lh.googleusercontent.com/a/AGNmyx...   \n",
       "\n",
       "                                             content  score  thumbsUpCount  \\\n",
       "0  love this app. have used it before and It just...      5              0   \n",
       "1                Account active status would be nice      3              0   \n",
       "2                                             Works!      5              0   \n",
       "3                                               good      5              0   \n",
       "4  Beware. You sign up for 1 week and it auto ren...      1              0   \n",
       "\n",
       "  reviewCreatedVersion                   at  \\\n",
       "0              5.311.1  2023-03-19 00:52:53   \n",
       "1              5.311.1  2023-03-18 23:45:56   \n",
       "2                  NaN  2023-03-18 23:13:44   \n",
       "3              5.311.1  2023-03-18 23:04:17   \n",
       "4              5.308.1  2023-03-18 23:04:04   \n",
       "\n",
       "                                        replyContent            repliedAt  \n",
       "0                                                NaN                  NaN  \n",
       "1  Hi there. We know you're probably busy, so we ...  2023-03-19 15:08:41  \n",
       "2                                                NaN                  NaN  \n",
       "3                                                NaN                  NaN  \n",
       "4  Hi there. We're sorry you didn't enjoy your ex...  2023-03-19 15:08:40  "
      ]
     },
     "execution_count": 5,
     "metadata": {},
     "output_type": "execute_result"
    }
   ],
   "source": [
    "data.head(5)"
   ]
  },
  {
   "cell_type": "markdown",
   "metadata": {},
   "source": [
    "# Renaming and Dropping Columns in DataFrame\n",
    "\n",
    "In this notebook, we will be renaming and dropping columns in a DataFrame using the `rename()` and `drop()` functions from the `pandas` library.\n",
    "\n"
   ]
  },
  {
   "cell_type": "code",
   "execution_count": 23,
   "metadata": {},
   "outputs": [],
   "source": [
    "new_column_names = {\n",
    "    'reviewId': 'NewReviewId',\n",
    "    'userName': 'NewUserName',\n",
    "    'userImage': 'NewUserImage',\n",
    "    'content': 'NewContent',\n",
    "    'score': 'NewScore',\n",
    "    'thumbsUpCount': 'NewThumbsUpCount',\n",
    "    'reviewCreatedVersion': 'NewReviewCreatedVersion',\n",
    "        'at': 'NewAt',\n",
    "        'replyContent': 'NewReplyContent',\n",
    "    'repliedAt': 'NewRepliedAt'\n",
    "}\n",
    "\n",
    "data = data.rename(columns=new_column_names)\n",
    "\n",
    "columns_to_drop = ['NewUserImage', 'NewAt', 'NewReplyContent', 'NewRepliedAt', 'NewReviewId','NewThumbsUpCount']\n",
    "\n",
    "data = data.drop(columns=columns_to_drop)\n"
   ]
  },
  {
   "cell_type": "code",
   "execution_count": 6,
   "metadata": {},
   "outputs": [
    {
     "data": {
      "text/html": [
       "<div>\n",
       "<style scoped>\n",
       "    .dataframe tbody tr th:only-of-type {\n",
       "        vertical-align: middle;\n",
       "    }\n",
       "\n",
       "    .dataframe tbody tr th {\n",
       "        vertical-align: top;\n",
       "    }\n",
       "\n",
       "    .dataframe thead th {\n",
       "        text-align: right;\n",
       "    }\n",
       "</style>\n",
       "<table border=\"1\" class=\"dataframe\">\n",
       "  <thead>\n",
       "    <tr style=\"text-align: right;\">\n",
       "      <th></th>\n",
       "      <th>NewUserName</th>\n",
       "      <th>NewContent</th>\n",
       "      <th>NewScore</th>\n",
       "      <th>NewReviewCreatedVersion</th>\n",
       "    </tr>\n",
       "  </thead>\n",
       "  <tbody>\n",
       "    <tr>\n",
       "      <th>0</th>\n",
       "      <td>micheal germain</td>\n",
       "      <td>love this app. have used it before and It just...</td>\n",
       "      <td>5</td>\n",
       "      <td>5.311.1</td>\n",
       "    </tr>\n",
       "    <tr>\n",
       "      <th>1</th>\n",
       "      <td>H C</td>\n",
       "      <td>Account active status would be nice</td>\n",
       "      <td>3</td>\n",
       "      <td>5.311.1</td>\n",
       "    </tr>\n",
       "    <tr>\n",
       "      <th>2</th>\n",
       "      <td>Nadir İlter</td>\n",
       "      <td>Works!</td>\n",
       "      <td>5</td>\n",
       "      <td>NaN</td>\n",
       "    </tr>\n",
       "    <tr>\n",
       "      <th>3</th>\n",
       "      <td>vahid mir</td>\n",
       "      <td>good</td>\n",
       "      <td>5</td>\n",
       "      <td>5.311.1</td>\n",
       "    </tr>\n",
       "    <tr>\n",
       "      <th>4</th>\n",
       "      <td>Merujan Danderian</td>\n",
       "      <td>Beware. You sign up for 1 week and it auto ren...</td>\n",
       "      <td>1</td>\n",
       "      <td>5.308.1</td>\n",
       "    </tr>\n",
       "  </tbody>\n",
       "</table>\n",
       "</div>"
      ],
      "text/plain": [
       "         NewUserName                                         NewContent  \\\n",
       "0    micheal germain  love this app. have used it before and It just...   \n",
       "1                H C                Account active status would be nice   \n",
       "2        Nadir İlter                                             Works!   \n",
       "3          vahid mir                                               good   \n",
       "4  Merujan Danderian  Beware. You sign up for 1 week and it auto ren...   \n",
       "\n",
       "   NewScore NewReviewCreatedVersion  \n",
       "0         5                 5.311.1  \n",
       "1         3                 5.311.1  \n",
       "2         5                     NaN  \n",
       "3         5                 5.311.1  \n",
       "4         1                 5.308.1  "
      ]
     },
     "execution_count": 6,
     "metadata": {},
     "output_type": "execute_result"
    }
   ],
   "source": [
    "data.head(5)"
   ]
  },
  {
   "cell_type": "code",
   "execution_count": 8,
   "metadata": {},
   "outputs": [
    {
     "name": "stdout",
     "output_type": "stream",
     "text": [
      "<class 'pandas.core.frame.DataFrame'>\n",
      "RangeIndex: 127114 entries, 0 to 127113\n",
      "Data columns (total 4 columns):\n",
      " #   Column                   Non-Null Count   Dtype \n",
      "---  ------                   --------------   ----- \n",
      " 0   NewUserName              127114 non-null  object\n",
      " 1   NewContent               127105 non-null  object\n",
      " 2   NewScore                 127114 non-null  int64 \n",
      " 3   NewReviewCreatedVersion  106165 non-null  object\n",
      "dtypes: int64(1), object(3)\n",
      "memory usage: 3.9+ MB\n"
     ]
    }
   ],
   "source": [
    "data.info()"
   ]
  },
  {
   "cell_type": "markdown",
   "metadata": {},
   "source": [
    "# Sentiment Analysis on User Reviews\n",
    "\n",
    "In this notebook, we will perform sentiment analysis on user reviews using the `nltk` library and the VADER (Valence Aware Dictionary and sEntiment Reasoner) lexicon.\n"
   ]
  },
  {
   "cell_type": "code",
   "execution_count": 9,
   "metadata": {},
   "outputs": [
    {
     "name": "stderr",
     "output_type": "stream",
     "text": [
      "[nltk_data] Downloading package vader_lexicon to\n",
      "[nltk_data]     C:\\Users\\Nimish\\AppData\\Roaming\\nltk_data...\n",
      "[nltk_data]   Package vader_lexicon is already up-to-date!\n"
     ]
    }
   ],
   "source": [
    "\n",
    "# Download necessary NLTK resources (run this once)\n",
    "nltk.download('vader_lexicon')\n",
    "\n",
    "# Create a SentimentIntensityAnalyzer object\n",
    "sia = SentimentIntensityAnalyzer()\n",
    "\n",
    "# Replace NaN or non-string values in the 'NewContent' column with an empty string\n",
    "data['NewContent'] = data['NewContent'].fillna('').astype(str)\n",
    "\n",
    "# Apply sentiment analysis to each user review\n",
    "data['Sentiment'] = data['NewContent'].apply(lambda x: sia.polarity_scores(x)['compound'])\n",
    "\n",
    "# Classify the sentiment into positive, negative, or neutral based on the compound score\n",
    "data['Sentiment_Classification'] = data['Sentiment'].apply(lambda x: 'Positive' if x > 0 else ('Negative' if x < 0 else 'Neutral'))\n"
   ]
  },
  {
   "cell_type": "code",
   "execution_count": 10,
   "metadata": {
    "scrolled": true
   },
   "outputs": [
    {
     "data": {
      "text/html": [
       "<div>\n",
       "<style scoped>\n",
       "    .dataframe tbody tr th:only-of-type {\n",
       "        vertical-align: middle;\n",
       "    }\n",
       "\n",
       "    .dataframe tbody tr th {\n",
       "        vertical-align: top;\n",
       "    }\n",
       "\n",
       "    .dataframe thead th {\n",
       "        text-align: right;\n",
       "    }\n",
       "</style>\n",
       "<table border=\"1\" class=\"dataframe\">\n",
       "  <thead>\n",
       "    <tr style=\"text-align: right;\">\n",
       "      <th></th>\n",
       "      <th>NewUserName</th>\n",
       "      <th>NewContent</th>\n",
       "      <th>NewScore</th>\n",
       "      <th>NewReviewCreatedVersion</th>\n",
       "      <th>Sentiment</th>\n",
       "      <th>Sentiment_Classification</th>\n",
       "    </tr>\n",
       "  </thead>\n",
       "  <tbody>\n",
       "    <tr>\n",
       "      <th>0</th>\n",
       "      <td>micheal germain</td>\n",
       "      <td>love this app. have used it before and It just...</td>\n",
       "      <td>5</td>\n",
       "      <td>5.311.1</td>\n",
       "      <td>0.7964</td>\n",
       "      <td>Positive</td>\n",
       "    </tr>\n",
       "    <tr>\n",
       "      <th>1</th>\n",
       "      <td>H C</td>\n",
       "      <td>Account active status would be nice</td>\n",
       "      <td>3</td>\n",
       "      <td>5.311.1</td>\n",
       "      <td>0.6705</td>\n",
       "      <td>Positive</td>\n",
       "    </tr>\n",
       "    <tr>\n",
       "      <th>2</th>\n",
       "      <td>Nadir İlter</td>\n",
       "      <td>Works!</td>\n",
       "      <td>5</td>\n",
       "      <td>NaN</td>\n",
       "      <td>0.0000</td>\n",
       "      <td>Neutral</td>\n",
       "    </tr>\n",
       "    <tr>\n",
       "      <th>3</th>\n",
       "      <td>vahid mir</td>\n",
       "      <td>good</td>\n",
       "      <td>5</td>\n",
       "      <td>5.311.1</td>\n",
       "      <td>0.4404</td>\n",
       "      <td>Positive</td>\n",
       "    </tr>\n",
       "    <tr>\n",
       "      <th>4</th>\n",
       "      <td>Merujan Danderian</td>\n",
       "      <td>Beware. You sign up for 1 week and it auto ren...</td>\n",
       "      <td>1</td>\n",
       "      <td>5.308.1</td>\n",
       "      <td>0.0000</td>\n",
       "      <td>Neutral</td>\n",
       "    </tr>\n",
       "  </tbody>\n",
       "</table>\n",
       "</div>"
      ],
      "text/plain": [
       "         NewUserName                                         NewContent  \\\n",
       "0    micheal germain  love this app. have used it before and It just...   \n",
       "1                H C                Account active status would be nice   \n",
       "2        Nadir İlter                                             Works!   \n",
       "3          vahid mir                                               good   \n",
       "4  Merujan Danderian  Beware. You sign up for 1 week and it auto ren...   \n",
       "\n",
       "   NewScore NewReviewCreatedVersion  Sentiment Sentiment_Classification  \n",
       "0         5                 5.311.1     0.7964                 Positive  \n",
       "1         3                 5.311.1     0.6705                 Positive  \n",
       "2         5                     NaN     0.0000                  Neutral  \n",
       "3         5                 5.311.1     0.4404                 Positive  \n",
       "4         1                 5.308.1     0.0000                  Neutral  "
      ]
     },
     "execution_count": 10,
     "metadata": {},
     "output_type": "execute_result"
    }
   ],
   "source": [
    "data.head(5)"
   ]
  },
  {
   "cell_type": "markdown",
   "metadata": {},
   "source": [
    "# Exploratory Data Analysis and Visualization\n",
    "\n",
    "In this section, we will explore the sentiment classification and review scores in the user review data and visualize them using various plots and charts.\n",
    "\n",
    "## Distribution of Sentiment Classification\n"
   ]
  },
  {
   "cell_type": "code",
   "execution_count": 11,
   "metadata": {
    "scrolled": true
   },
   "outputs": [
    {
     "data": {
      "image/png": "[encoded data removed]",
      "text/plain": [
       "<Figure size 432x288 with 1 Axes>"
      ]
     },
     "metadata": {
      "needs_background": "light"
     },
     "output_type": "display_data"
    }
   ],
   "source": [
    "# Create a countplot of sentiment classification\n",
    "sns.countplot(x='Sentiment_Classification', data=data)\n",
    "\n",
    "# Add labels and title\n",
    "plt.xlabel('Sentiment')\n",
    "plt.ylabel('Count')\n",
    "plt.title('Distribution of Sentiment')\n",
    "\n",
    "# Show the plot\n",
    "plt.show()\n"
   ]
  },
  {
   "cell_type": "markdown",
   "metadata": {},
   "source": [
    "# Distribution of Review Scores"
   ]
  },
  {
   "cell_type": "code",
   "execution_count": 14,
   "metadata": {
    "scrolled": true
   },
   "outputs": [
    {
     "data": {
      "image/png": "[encoded data removed]",
      "text/plain": [
       "<Figure size 432x288 with 1 Axes>"
      ]
     },
     "metadata": {
      "needs_background": "light"
     },
     "output_type": "display_data"
    }
   ],
   "source": [
    "\n",
    "# Plot a histogram of review scores\n",
    "plt.hist(data['NewScore'], bins=10)\n",
    "\n",
    "# Add labels and title\n",
    "plt.xlabel('Review Score')\n",
    "plt.ylabel('Count')\n",
    "plt.title('Distribution of Review Scores')\n",
    "\n",
    "# Show the plot\n",
    "plt.show()\n"
   ]
  },
  {
   "cell_type": "markdown",
   "metadata": {},
   "source": [
    "# Average Score by Sentiment Classification"
   ]
  },
  {
   "cell_type": "code",
   "execution_count": 16,
   "metadata": {
    "scrolled": true
   },
   "outputs": [
    {
     "data": {
      "image/png": "[encoded data removed]",
      "text/plain": [
       "<Figure size 432x288 with 1 Axes>"
      ]
     },
     "metadata": {
      "needs_background": "light"
     },
     "output_type": "display_data"
    }
   ],
   "source": [
    "# Calculate the average score for each sentiment classification\n",
    "average_score = data.groupby('Sentiment_Classification')['NewScore'].mean()\n",
    "\n",
    "# Plot a bar plot of average scores by sentiment\n",
    "average_score.plot(kind='bar')\n",
    "\n",
    "# Add labels and title\n",
    "plt.xlabel('Sentiment Classification')\n",
    "plt.ylabel('Average Score')\n",
    "plt.title('Average Score by Sentiment Classification')\n",
    "\n",
    "# Show the plot\n",
    "plt.show()\n"
   ]
  },
  {
   "cell_type": "markdown",
   "metadata": {},
   "source": [
    "# Distribution of Review Scores by Sentiment Classification\n",
    "To compare the distribution of review scores for positive and negative sentiment classifications, we can plot overlapping histograms:\n"
   ]
  },
  {
   "cell_type": "code",
   "execution_count": 17,
   "metadata": {
    "scrolled": true
   },
   "outputs": [
    {
     "data": {
      "image/png": "[encoded data removed]",
      "text/plain": [
       "<Figure size 432x288 with 1 Axes>"
      ]
     },
     "metadata": {
      "needs_background": "light"
     },
     "output_type": "display_data"
    }
   ],
   "source": [
    "# Plot a histogram of review scores\n",
    "plt.hist(data[data['Sentiment_Classification'] == 'Positive']['NewScore'], bins=10, label='Positive', alpha=0.5)\n",
    "plt.hist(data[data['Sentiment_Classification'] == 'Negative']['NewScore'], bins=10, label='Negative', alpha=0.5)\n",
    "\n",
    "# Add labels and title\n",
    "plt.xlabel('Review Score')\n",
    "plt.ylabel('Count')\n",
    "plt.title('Distribution of Review Scores by Sentiment Classification')\n",
    "\n",
    "# Add a legend\n",
    "plt.legend()\n",
    "\n",
    "# Show the plot\n",
    "plt.show()\n"
   ]
  },
  {
   "cell_type": "markdown",
   "metadata": {},
   "source": [
    "# Percentage of Each Sentiment Classification\n",
    "Lastly, let's calculate the count and percentage of each sentiment classification and display the results:"
   ]
  },
  {
   "cell_type": "code",
   "execution_count": 15,
   "metadata": {},
   "outputs": [
    {
     "name": "stdout",
     "output_type": "stream",
     "text": [
      "Positive    66940\n",
      "Negative    40688\n",
      "Neutral     19486\n",
      "Name: Sentiment_Classification, dtype: int64\n",
      "Positive    52.661391\n",
      "Negative    32.009063\n",
      "Neutral     15.329547\n",
      "Name: Sentiment_Classification, dtype: float64\n"
     ]
    }
   ],
   "source": [
    "# Calculate the count and percentage of each sentiment classification\n",
    "sentiment_counts = data['Sentiment_Classification'].value_counts()\n",
    "sentiment_percentages = (sentiment_counts / len(data)) * 100\n",
    "\n",
    "# Display the count and percentage of each sentiment classification\n",
    "print(sentiment_counts)\n",
    "print(sentiment_percentages)\n"
   ]
  },
  {
   "cell_type": "markdown",
   "metadata": {},
   "source": [
    "### Based on the analysis of the sentiment classification in the user review data, the following observations can be made:\n",
    "\n",
    "1. Sentiment Classification Distribution: The majority of user reviews are classified as positive (66,940 reviews), followed by negative (40,688 reviews) and neutral (19,486 reviews). Positive reviews constitute approximately 52.66% of the total reviews, while negative reviews account for around 32.01%, and neutral reviews make up approximately 15.33%.\n",
    "\n",
    "This distribution indicates that the sentiment of the majority of user reviews is positive, with a significant proportion of reviews expressing negative sentiments and a smaller percentage classified as neutral.\n",
    "\n",
    "These findings suggest that there is generally a positive sentiment among users, but negative and neutral opinions are also present. It is important for businesses to pay attention to negative reviews and address any issues raised to improve customer satisfaction.\n",
    "\n",
    "The distribution of sentiment classifications provides insights into the overall sentiment trends and can help businesses understand the sentiment of their customers, identify areas for improvement, and make informed decisions to enhance their products or services."
   ]
  }
 ],
 "metadata": {
  "kernelspec": {
   "display_name": "Python 3",
   "language": "python",
   "name": "python3"
  },
  "language_info": {
   "codemirror_mode": {
    "name": "ipython",
    "version": 3
   },
   "file_extension": ".py",
   "mimetype": "text/x-python",
   "name": "python",
   "nbconvert_exporter": "python",
   "pygments_lexer": "ipython3",
   "version": "3.7.6"
  }
 },
 "nbformat": 4,
 "nbformat_minor": 5
}
